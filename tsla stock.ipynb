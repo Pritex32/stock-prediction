{
 "cells": [
  {
   "cell_type": "markdown",
   "id": "6cd80527-d15b-40ea-ada7-dfc14b505d80",
   "metadata": {},
   "source": [
    "# By Prisca"
   ]
  },
  {
   "cell_type": "code",
   "execution_count": 79,
   "id": "f0754f14-cc8d-4c72-9320-2ddc6a130a79",
   "metadata": {},
   "outputs": [],
   "source": [
    "# TSLA  stock prediction using LSTM model"
   ]
  },
  {
   "cell_type": "code",
   "execution_count": 1,
   "id": "0c74cd47-9783-4088-bb0e-5ac88939323f",
   "metadata": {},
   "outputs": [],
   "source": [
    "import pandas as pd\n",
    "import numpy as np\n",
    "import matplotlib.pyplot as plt\n",
    "from tensorflow import keras"
   ]
  },
  {
   "cell_type": "code",
   "execution_count": 76,
   "id": "3b679d05-8cdc-417c-a1b6-263d646c11cb",
   "metadata": {},
   "outputs": [],
   "source": [
    "#load the data"
   ]
  },
  {
   "cell_type": "code",
   "execution_count": 2,
   "id": "538ac5bf-998b-4139-9920-7e20d95a9a67",
   "metadata": {},
   "outputs": [],
   "source": [
    "df=pd.read_csv(r'C:\\Users\\USER\\Documents\\dataset\\TSLA.csv')"
   ]
  },
  {
   "cell_type": "code",
   "execution_count": 3,
   "id": "60a479c6-4e2d-4563-bdd9-ae8e419ce0d4",
   "metadata": {},
   "outputs": [
    {
     "data": {
      "text/html": [
       "<div>\n",
       "<style scoped>\n",
       "    .dataframe tbody tr th:only-of-type {\n",
       "        vertical-align: middle;\n",
       "    }\n",
       "\n",
       "    .dataframe tbody tr th {\n",
       "        vertical-align: top;\n",
       "    }\n",
       "\n",
       "    .dataframe thead th {\n",
       "        text-align: right;\n",
       "    }\n",
       "</style>\n",
       "<table border=\"1\" class=\"dataframe\">\n",
       "  <thead>\n",
       "    <tr style=\"text-align: right;\">\n",
       "      <th></th>\n",
       "      <th>Unnamed: 0</th>\n",
       "      <th>Date</th>\n",
       "      <th>Open</th>\n",
       "      <th>High</th>\n",
       "      <th>Low</th>\n",
       "      <th>Close</th>\n",
       "      <th>Volume</th>\n",
       "    </tr>\n",
       "  </thead>\n",
       "  <tbody>\n",
       "    <tr>\n",
       "      <th>0</th>\n",
       "      <td>0</td>\n",
       "      <td>2010-06-29</td>\n",
       "      <td>1.266667</td>\n",
       "      <td>1.666667</td>\n",
       "      <td>1.169333</td>\n",
       "      <td>1.592667</td>\n",
       "      <td>281494500</td>\n",
       "    </tr>\n",
       "    <tr>\n",
       "      <th>1</th>\n",
       "      <td>1</td>\n",
       "      <td>2010-06-30</td>\n",
       "      <td>1.719333</td>\n",
       "      <td>2.028000</td>\n",
       "      <td>1.553333</td>\n",
       "      <td>1.588667</td>\n",
       "      <td>257806500</td>\n",
       "    </tr>\n",
       "    <tr>\n",
       "      <th>2</th>\n",
       "      <td>2</td>\n",
       "      <td>2010-07-01</td>\n",
       "      <td>1.666667</td>\n",
       "      <td>1.728000</td>\n",
       "      <td>1.351333</td>\n",
       "      <td>1.464000</td>\n",
       "      <td>123282000</td>\n",
       "    </tr>\n",
       "    <tr>\n",
       "      <th>3</th>\n",
       "      <td>3</td>\n",
       "      <td>2010-07-02</td>\n",
       "      <td>1.533333</td>\n",
       "      <td>1.540000</td>\n",
       "      <td>1.247333</td>\n",
       "      <td>1.280000</td>\n",
       "      <td>77097000</td>\n",
       "    </tr>\n",
       "    <tr>\n",
       "      <th>4</th>\n",
       "      <td>4</td>\n",
       "      <td>2010-07-06</td>\n",
       "      <td>1.333333</td>\n",
       "      <td>1.333333</td>\n",
       "      <td>1.055333</td>\n",
       "      <td>1.074000</td>\n",
       "      <td>103003500</td>\n",
       "    </tr>\n",
       "  </tbody>\n",
       "</table>\n",
       "</div>"
      ],
      "text/plain": [
       "   Unnamed: 0        Date      Open      High       Low     Close     Volume\n",
       "0           0  2010-06-29  1.266667  1.666667  1.169333  1.592667  281494500\n",
       "1           1  2010-06-30  1.719333  2.028000  1.553333  1.588667  257806500\n",
       "2           2  2010-07-01  1.666667  1.728000  1.351333  1.464000  123282000\n",
       "3           3  2010-07-02  1.533333  1.540000  1.247333  1.280000   77097000\n",
       "4           4  2010-07-06  1.333333  1.333333  1.055333  1.074000  103003500"
      ]
     },
     "execution_count": 3,
     "metadata": {},
     "output_type": "execute_result"
    }
   ],
   "source": [
    "df.head()"
   ]
  },
  {
   "cell_type": "code",
   "execution_count": 4,
   "id": "2c4d3018-f6b2-4594-97c0-c6c629cef255",
   "metadata": {},
   "outputs": [
    {
     "data": {
      "text/plain": [
       "(3534, 7)"
      ]
     },
     "execution_count": 4,
     "metadata": {},
     "output_type": "execute_result"
    }
   ],
   "source": [
    "df.shape"
   ]
  },
  {
   "cell_type": "code",
   "execution_count": 5,
   "id": "422b2fc8-1d04-4e24-a9ed-ef7692b2355b",
   "metadata": {},
   "outputs": [],
   "source": [
    "df.drop(['Unnamed: 0'],axis=1,inplace=True)"
   ]
  },
  {
   "cell_type": "code",
   "execution_count": 6,
   "id": "740867e6-c66f-4a5c-af7c-bcdb7a0feb6e",
   "metadata": {},
   "outputs": [],
   "source": [
    "df.set_index(['Date'],inplace=True)"
   ]
  },
  {
   "cell_type": "code",
   "execution_count": 7,
   "id": "7af18ad5-c883-49c0-b469-864982c0bef0",
   "metadata": {},
   "outputs": [
    {
     "data": {
      "text/html": [
       "<div>\n",
       "<style scoped>\n",
       "    .dataframe tbody tr th:only-of-type {\n",
       "        vertical-align: middle;\n",
       "    }\n",
       "\n",
       "    .dataframe tbody tr th {\n",
       "        vertical-align: top;\n",
       "    }\n",
       "\n",
       "    .dataframe thead th {\n",
       "        text-align: right;\n",
       "    }\n",
       "</style>\n",
       "<table border=\"1\" class=\"dataframe\">\n",
       "  <thead>\n",
       "    <tr style=\"text-align: right;\">\n",
       "      <th></th>\n",
       "      <th>Open</th>\n",
       "      <th>High</th>\n",
       "      <th>Low</th>\n",
       "      <th>Close</th>\n",
       "      <th>Volume</th>\n",
       "    </tr>\n",
       "    <tr>\n",
       "      <th>Date</th>\n",
       "      <th></th>\n",
       "      <th></th>\n",
       "      <th></th>\n",
       "      <th></th>\n",
       "      <th></th>\n",
       "    </tr>\n",
       "  </thead>\n",
       "  <tbody>\n",
       "    <tr>\n",
       "      <th>2010-06-29</th>\n",
       "      <td>1.266667</td>\n",
       "      <td>1.666667</td>\n",
       "      <td>1.169333</td>\n",
       "      <td>1.592667</td>\n",
       "      <td>281494500</td>\n",
       "    </tr>\n",
       "    <tr>\n",
       "      <th>2010-06-30</th>\n",
       "      <td>1.719333</td>\n",
       "      <td>2.028000</td>\n",
       "      <td>1.553333</td>\n",
       "      <td>1.588667</td>\n",
       "      <td>257806500</td>\n",
       "    </tr>\n",
       "    <tr>\n",
       "      <th>2010-07-01</th>\n",
       "      <td>1.666667</td>\n",
       "      <td>1.728000</td>\n",
       "      <td>1.351333</td>\n",
       "      <td>1.464000</td>\n",
       "      <td>123282000</td>\n",
       "    </tr>\n",
       "    <tr>\n",
       "      <th>2010-07-02</th>\n",
       "      <td>1.533333</td>\n",
       "      <td>1.540000</td>\n",
       "      <td>1.247333</td>\n",
       "      <td>1.280000</td>\n",
       "      <td>77097000</td>\n",
       "    </tr>\n",
       "    <tr>\n",
       "      <th>2010-07-06</th>\n",
       "      <td>1.333333</td>\n",
       "      <td>1.333333</td>\n",
       "      <td>1.055333</td>\n",
       "      <td>1.074000</td>\n",
       "      <td>103003500</td>\n",
       "    </tr>\n",
       "  </tbody>\n",
       "</table>\n",
       "</div>"
      ],
      "text/plain": [
       "                Open      High       Low     Close     Volume\n",
       "Date                                                         \n",
       "2010-06-29  1.266667  1.666667  1.169333  1.592667  281494500\n",
       "2010-06-30  1.719333  2.028000  1.553333  1.588667  257806500\n",
       "2010-07-01  1.666667  1.728000  1.351333  1.464000  123282000\n",
       "2010-07-02  1.533333  1.540000  1.247333  1.280000   77097000\n",
       "2010-07-06  1.333333  1.333333  1.055333  1.074000  103003500"
      ]
     },
     "execution_count": 7,
     "metadata": {},
     "output_type": "execute_result"
    }
   ],
   "source": [
    "df.head() # predicting stock for 2024-7-16, stock start from 2010 to 2024 july"
   ]
  },
  {
   "cell_type": "code",
   "execution_count": 8,
   "id": "f3e59c42-8ee5-4f6a-89ab-97f980e133f6",
   "metadata": {},
   "outputs": [
    {
     "data": {
      "text/plain": [
       "Open      0\n",
       "High      0\n",
       "Low       0\n",
       "Close     0\n",
       "Volume    0\n",
       "dtype: int64"
      ]
     },
     "execution_count": 8,
     "metadata": {},
     "output_type": "execute_result"
    }
   ],
   "source": [
    "df.isnull().sum()"
   ]
  },
  {
   "cell_type": "code",
   "execution_count": 9,
   "id": "d78a0d63-50b7-4f68-86b0-6a47441a661f",
   "metadata": {},
   "outputs": [
    {
     "data": {
      "text/plain": [
       "0"
      ]
     },
     "execution_count": 9,
     "metadata": {},
     "output_type": "execute_result"
    }
   ],
   "source": [
    "df.duplicated().sum()"
   ]
  },
  {
   "cell_type": "code",
   "execution_count": 77,
   "id": "cee10a34-c1ee-4cd9-ae27-c3b46436b9d3",
   "metadata": {},
   "outputs": [],
   "source": [
    "# selection of target column"
   ]
  },
  {
   "cell_type": "code",
   "execution_count": 78,
   "id": "e1d6383e-b106-4196-8498-aca5fe464ab2",
   "metadata": {},
   "outputs": [],
   "source": [
    "new_df=df['Close'].values"
   ]
  },
  {
   "cell_type": "code",
   "execution_count": 11,
   "id": "6edd53f3-9b20-42fb-812d-e71226d7410c",
   "metadata": {},
   "outputs": [],
   "source": [
    "new_df=pd.DataFrame(new_df)"
   ]
  },
  {
   "cell_type": "code",
   "execution_count": 12,
   "id": "e38fa8cc-db0b-45d3-82e8-440ffa99ed20",
   "metadata": {},
   "outputs": [
    {
     "data": {
      "text/plain": [
       "[<matplotlib.lines.Line2D at 0x1324fafdaf0>]"
      ]
     },
     "execution_count": 12,
     "metadata": {},
     "output_type": "execute_result"
    },
    {
     "data": {
      "image/png": "[encoded data removed]",
      "text/plain": [
       "<Figure size 1500x1000 with 1 Axes>"
      ]
     },
     "metadata": {},
     "output_type": "display_data"
    }
   ],
   "source": [
    "plt.figure(figsize=(15,10))\n",
    "plt.plot(new_df)"
   ]
  },
  {
   "cell_type": "code",
   "execution_count": 80,
   "id": "9914d739-239c-494b-9713-ec33c6f92cd2",
   "metadata": {},
   "outputs": [],
   "source": [
    "# data scaling"
   ]
  },
  {
   "cell_type": "code",
   "execution_count": 13,
   "id": "9acd49ae-b79b-4a99-b221-e918d6f4e1ff",
   "metadata": {},
   "outputs": [],
   "source": [
    "from sklearn.preprocessing import MinMaxScaler"
   ]
  },
  {
   "cell_type": "code",
   "execution_count": 14,
   "id": "79a8af40-a950-48fc-813b-7fd098d9a5c9",
   "metadata": {},
   "outputs": [],
   "source": [
    "scaler=MinMaxScaler(feature_range=(0,1))"
   ]
  },
  {
   "cell_type": "code",
   "execution_count": 15,
   "id": "a6304b15-b82c-4ee1-bf5b-8a6f8c48edda",
   "metadata": {},
   "outputs": [],
   "source": [
    "df_scaled=scaler.fit_transform(new_df)"
   ]
  },
  {
   "cell_type": "code",
   "execution_count": 16,
   "id": "090b18d5-777f-4874-b924-cdf9decbbd58",
   "metadata": {},
   "outputs": [],
   "source": [
    "# split the data"
   ]
  },
  {
   "cell_type": "code",
   "execution_count": 98,
   "id": "b18740ba-2504-41a3-8b77-a2e92c3f4181",
   "metadata": {},
   "outputs": [],
   "source": [
    "split_index=int(len(df_scaled)*0.8)"
   ]
  },
  {
   "cell_type": "code",
   "execution_count": 99,
   "id": "9d3f023e-3bbc-4044-be34-229163cb0921",
   "metadata": {},
   "outputs": [],
   "source": [
    "train_df=df_scaled[:split_index]\n",
    "test_df=df_scaled[split_index:]"
   ]
  },
  {
   "cell_type": "code",
   "execution_count": 100,
   "id": "2557cfb5-ad97-41ca-9619-0f0e2d70b67d",
   "metadata": {},
   "outputs": [
    {
     "data": {
      "text/plain": [
       "((2827, 1), (707, 1))"
      ]
     },
     "execution_count": 100,
     "metadata": {},
     "output_type": "execute_result"
    }
   ],
   "source": [
    "train_df.shape,test_df.shape"
   ]
  },
  {
   "cell_type": "code",
   "execution_count": 101,
   "id": "db43f464-68c6-490b-b0ce-6cd79f3a8d6e",
   "metadata": {},
   "outputs": [],
   "source": [
    "# created sequence for both train and test data"
   ]
  },
  {
   "cell_type": "code",
   "execution_count": 102,
   "id": "34ce1bca-fcd9-47a1-8620-343502f9d661",
   "metadata": {},
   "outputs": [],
   "source": [
    "x_train=[]\n",
    "y_train=[]\n",
    "\n",
    "for i in range(60,len(train_df)):\n",
    "    x_train.append(train_df[i-60:i, 0])\n",
    "    y_train.append(train_df[i,0])\n",
    "\n",
    "x_train=np.array(x_train)\n",
    "y_train=np.array(y_train)"
   ]
  },
  {
   "cell_type": "code",
   "execution_count": 103,
   "id": "110ad54f-0e6c-4939-b90b-28f22215d10f",
   "metadata": {},
   "outputs": [],
   "source": [
    "x_test=[]\n",
    "y_test=[]\n",
    "\n",
    "for i in range(60,len(test_df)):\n",
    "    x_test.append(test_df[i-60:i,0])\n",
    "    y_test.append(test_df[i,0])\n",
    "\n",
    "x_test=np.array(x_test)\n",
    "y_test=np.array(y_test)"
   ]
  },
  {
   "cell_type": "code",
   "execution_count": 104,
   "id": "36fded87-1d9c-42d0-9d92-f971d45a2ff1",
   "metadata": {},
   "outputs": [
    {
     "data": {
      "text/plain": [
       "((2767, 60), (647, 60))"
      ]
     },
     "execution_count": 104,
     "metadata": {},
     "output_type": "execute_result"
    }
   ],
   "source": [
    "x_train.shape,x_test.shape"
   ]
  },
  {
   "cell_type": "code",
   "execution_count": 105,
   "id": "1b8fea2b-8eae-40f1-abbd-86de10f17ea9",
   "metadata": {},
   "outputs": [
    {
     "data": {
      "text/plain": [
       "((2767,), (647,))"
      ]
     },
     "execution_count": 105,
     "metadata": {},
     "output_type": "execute_result"
    }
   ],
   "source": [
    "y_train.shape,y_test.shape"
   ]
  },
  {
   "cell_type": "markdown",
   "id": "4acc63a6-133b-424c-867c-b61954bc002d",
   "metadata": {},
   "source": [
    "# reshape"
   ]
  },
  {
   "cell_type": "code",
   "execution_count": 106,
   "id": "6efcd6db-c355-4bda-bf3a-b06c689344f9",
   "metadata": {},
   "outputs": [],
   "source": [
    "x_train=x_train.reshape(x_train.shape[0],x_train.shape[1],1)\n",
    "x_test=x_test.reshape(x_test.shape[0],x_test.shape[1],1)"
   ]
  },
  {
   "cell_type": "code",
   "execution_count": 107,
   "id": "b1855ee7-7864-442a-ac4f-fb4632a6a01b",
   "metadata": {},
   "outputs": [
    {
     "data": {
      "text/plain": [
       "((2767, 60, 1), (647, 60, 1))"
      ]
     },
     "execution_count": 107,
     "metadata": {},
     "output_type": "execute_result"
    }
   ],
   "source": [
    "x_train.shape,x_test.shape"
   ]
  },
  {
   "cell_type": "markdown",
   "id": "1cd8116f-6a55-4e7a-a819-404612718e3a",
   "metadata": {},
   "source": [
    "# build model"
   ]
  },
  {
   "cell_type": "code",
   "execution_count": 29,
   "id": "3a85b752-9575-4d5a-be0e-f68f2623484b",
   "metadata": {},
   "outputs": [],
   "source": [
    "from keras .models import Sequential\n",
    "from keras .layers import Dense,Dropout,LSTM"
   ]
  },
  {
   "cell_type": "code",
   "execution_count": 30,
   "id": "7c9c2273-09a2-45e5-8c2b-9c7ebadfb88a",
   "metadata": {},
   "outputs": [],
   "source": [
    "model=Sequential()"
   ]
  },
  {
   "cell_type": "code",
   "execution_count": 31,
   "id": "0bf86fa0-c35f-4c97-811d-2035601dcd5e",
   "metadata": {},
   "outputs": [],
   "source": [
    "model.add(LSTM(units=50,return_sequences=True,input_shape=( x_train.shape[1],x_train.shape[2])))\n",
    "model.add(Dropout(0.2))"
   ]
  },
  {
   "cell_type": "code",
   "execution_count": 32,
   "id": "b0dcc273-af93-4c3e-8832-146ef8b7ba2b",
   "metadata": {},
   "outputs": [],
   "source": [
    "\n",
    "model.add(LSTM(units=50,return_sequences=True))\n",
    "model.add(Dropout(0.2))"
   ]
  },
  {
   "cell_type": "code",
   "execution_count": 33,
   "id": "077d0763-5fd0-48f0-b7a6-e0b55611aeda",
   "metadata": {},
   "outputs": [],
   "source": [
    "model.add(LSTM(units=50,return_sequences=True))\n",
    "model.add(Dropout(0.2))"
   ]
  },
  {
   "cell_type": "code",
   "execution_count": 34,
   "id": "159f97ad-7dc2-4f57-af4d-95fee3904838",
   "metadata": {},
   "outputs": [],
   "source": [
    "model.add(LSTM(units=50,return_sequences=True))\n",
    "model.add(Dropout(0.2))"
   ]
  },
  {
   "cell_type": "code",
   "execution_count": 35,
   "id": "00f62888-6aa9-4c5b-9539-665b139015df",
   "metadata": {},
   "outputs": [],
   "source": [
    "model.add(LSTM(units=50,return_sequences=True))\n",
    "model.add(Dropout(0.2))"
   ]
  },
  {
   "cell_type": "code",
   "execution_count": 36,
   "id": "0544fa97-29d1-46d1-8cc4-9bbcd2607136",
   "metadata": {},
   "outputs": [],
   "source": [
    "model.add(LSTM(units=50,return_sequences=False))\n",
    "model.add(Dropout(0.2))"
   ]
  },
  {
   "cell_type": "code",
   "execution_count": 37,
   "id": "cc3eeb5a-841e-47a8-8ecd-2861015febd5",
   "metadata": {},
   "outputs": [],
   "source": [
    "model.add(Dense(units=1))"
   ]
  },
  {
   "cell_type": "code",
   "execution_count": null,
   "id": "1061046b-bc71-4850-9f09-d5a61bec06ae",
   "metadata": {},
   "outputs": [],
   "source": [
    "# compile"
   ]
  },
  {
   "cell_type": "code",
   "execution_count": 39,
   "id": "355c9cd5-853f-440e-8076-415ff48e4323",
   "metadata": {},
   "outputs": [],
   "source": [
    "model.compile(optimizer='adam',loss='mean_squared_error')"
   ]
  },
  {
   "cell_type": "code",
   "execution_count": 40,
   "id": "44cf71bc-7be7-4aaf-9fa9-c5cba6f07080",
   "metadata": {},
   "outputs": [],
   "source": [
    "#fit the model"
   ]
  },
  {
   "cell_type": "code",
   "execution_count": 41,
   "id": "0461555c-6577-47f4-bd7f-4e8e0a7bacce",
   "metadata": {},
   "outputs": [
    {
     "name": "stdout",
     "output_type": "stream",
     "text": [
      "Epoch 1/20\n",
      "1384/1384 [==============================] - 300s 202ms/step - loss: 0.0024 - val_loss: 0.0149\n",
      "Epoch 2/20\n",
      "1384/1384 [==============================] - 281s 203ms/step - loss: 0.0014 - val_loss: 0.0110\n",
      "Epoch 3/20\n",
      "1384/1384 [==============================] - 279s 201ms/step - loss: 0.0012 - val_loss: 0.0102\n",
      "Epoch 4/20\n",
      "1384/1384 [==============================] - 273s 197ms/step - loss: 0.0010 - val_loss: 0.0100\n",
      "Epoch 5/20\n",
      "1384/1384 [==============================] - 278s 201ms/step - loss: 9.9633e-04 - val_loss: 0.0259\n",
      "Epoch 6/20\n",
      "1384/1384 [==============================] - 283s 205ms/step - loss: 8.8110e-04 - val_loss: 0.0090\n",
      "Epoch 7/20\n",
      "1384/1384 [==============================] - 274s 198ms/step - loss: 8.3555e-04 - val_loss: 0.0090\n",
      "Epoch 8/20\n",
      "1384/1384 [==============================] - 281s 203ms/step - loss: 7.4407e-04 - val_loss: 0.0094\n",
      "Epoch 9/20\n",
      "1384/1384 [==============================] - 274s 198ms/step - loss: 8.6287e-04 - val_loss: 0.0077\n",
      "Epoch 10/20\n",
      "1384/1384 [==============================] - 272s 196ms/step - loss: 6.2938e-04 - val_loss: 0.0051\n",
      "Epoch 11/20\n",
      "1384/1384 [==============================] - 359s 260ms/step - loss: 6.6233e-04 - val_loss: 0.0186\n",
      "Epoch 12/20\n",
      "1384/1384 [==============================] - 524s 379ms/step - loss: 7.7214e-04 - val_loss: 0.0138\n",
      "Epoch 13/20\n",
      "1384/1384 [==============================] - 809s 584ms/step - loss: 6.7801e-04 - val_loss: 0.0058\n",
      "Epoch 14/20\n",
      "1384/1384 [==============================] - 957s 691ms/step - loss: 6.4346e-04 - val_loss: 0.0069\n",
      "Epoch 15/20\n",
      "1384/1384 [==============================] - 897s 648ms/step - loss: 7.0937e-04 - val_loss: 0.0085\n",
      "Epoch 16/20\n",
      "1384/1384 [==============================] - 843s 609ms/step - loss: 6.1364e-04 - val_loss: 0.0071\n",
      "Epoch 17/20\n",
      "1384/1384 [==============================] - 929s 671ms/step - loss: 5.9391e-04 - val_loss: 0.0055\n",
      "Epoch 18/20\n",
      "1384/1384 [==============================] - 942s 681ms/step - loss: 6.0241e-04 - val_loss: 0.0068\n",
      "Epoch 19/20\n",
      "1384/1384 [==============================] - 383s 276ms/step - loss: 5.7224e-04 - val_loss: 0.0087\n",
      "Epoch 20/20\n",
      "1384/1384 [==============================] - 281s 203ms/step - loss: 5.4193e-04 - val_loss: 0.0087\n"
     ]
    }
   ],
   "source": [
    "history=model.fit(x_train,y_train,validation_data=(x_test,y_test),epochs=20,batch_size=2)"
   ]
  },
  {
   "cell_type": "code",
   "execution_count": 90,
   "id": "b5464c73-134d-4b24-bb7f-6efd1ad3c246",
   "metadata": {},
   "outputs": [],
   "source": [
    "#model evaluation"
   ]
  },
  {
   "cell_type": "code",
   "execution_count": 108,
   "id": "4be4f74e-20a6-46a3-bd8d-ca3b5217fef8",
   "metadata": {},
   "outputs": [],
   "source": [
    "loss_t=(history.history['loss'])\n",
    "loss_v=(history.history['val_loss'])"
   ]
  },
  {
   "cell_type": "code",
   "execution_count": 109,
   "id": "ddd766e6-680a-4604-bf6b-d267c26b8bbc",
   "metadata": {},
   "outputs": [
    {
     "name": "stderr",
     "output_type": "stream",
     "text": [
      "No artists with labels found to put in legend.  Note that artists whose label start with an underscore are ignored when legend() is called with no argument.\n"
     ]
    },
    {
     "data": {
      "text/plain": [
       "<matplotlib.legend.Legend at 0x1325c6f8a00>"
      ]
     },
     "execution_count": 109,
     "metadata": {},
     "output_type": "execute_result"
    },
    {
     "data": {
      "image/png": "[encoded data removed]",
      "text/plain": [
       "<Figure size 640x480 with 1 Axes>"
      ]
     },
     "metadata": {},
     "output_type": "display_data"
    }
   ],
   "source": [
    "plt.plot(loss_t)\n",
    "plt.plot(loss_v)\n",
    "plt.xlabel('loss')\n",
    "plt.ylabel('val_loss')\n",
    "plt.legend()  # as the val loss is going down, the loss is low too"
   ]
  },
  {
   "cell_type": "markdown",
   "id": "4e9039a1-ce5a-4180-b7e2-d06f85e670db",
   "metadata": {},
   "source": [
    "# prediction"
   ]
  },
  {
   "cell_type": "code",
   "execution_count": 110,
   "id": "c96da7c3-800f-41a9-bd0a-68b441e97278",
   "metadata": {},
   "outputs": [
    {
     "name": "stdout",
     "output_type": "stream",
     "text": [
      "21/21 [==============================] - 2s 88ms/step\n"
     ]
    }
   ],
   "source": [
    "predictions=model.predict(x_test)"
   ]
  },
  {
   "cell_type": "code",
   "execution_count": 111,
   "id": "776ef670-d92b-44e8-b305-83d809bdcadd",
   "metadata": {},
   "outputs": [],
   "source": [
    "predictions=scaler.inverse_transform(predictions)"
   ]
  },
  {
   "cell_type": "code",
   "execution_count": 112,
   "id": "1ba22846-d6ed-4442-a3a2-8be241ba52a3",
   "metadata": {},
   "outputs": [
    {
     "data": {
      "text/plain": [
       "(647, 1)"
      ]
     },
     "execution_count": 112,
     "metadata": {},
     "output_type": "execute_result"
    }
   ],
   "source": [
    "predictions.shape"
   ]
  },
  {
   "cell_type": "code",
   "execution_count": 113,
   "id": "f907ed1e-a334-442c-a38d-9faf319cdbc6",
   "metadata": {},
   "outputs": [],
   "source": [
    "# Reshape y_test"
   ]
  },
  {
   "cell_type": "code",
   "execution_count": 114,
   "id": "064a705f-5dfe-4d55-b590-489f41f4ecef",
   "metadata": {},
   "outputs": [],
   "source": [
    "y_test=y_test.reshape(-1,1)"
   ]
  },
  {
   "cell_type": "code",
   "execution_count": 115,
   "id": "d19b4fb4-eaa1-4ca1-a940-70e35caafa42",
   "metadata": {},
   "outputs": [
    {
     "data": {
      "text/plain": [
       "(647, 1)"
      ]
     },
     "execution_count": 115,
     "metadata": {},
     "output_type": "execute_result"
    }
   ],
   "source": [
    "y_test.shape"
   ]
  },
  {
   "cell_type": "code",
   "execution_count": 116,
   "id": "54221226-0861-4f05-b00d-c133033b94ab",
   "metadata": {},
   "outputs": [],
   "source": [
    "y_test_sc=scaler.inverse_transform(y_test)"
   ]
  },
  {
   "cell_type": "code",
   "execution_count": 117,
   "id": "f4d8df42-566c-4147-ba48-be0af04364df",
   "metadata": {},
   "outputs": [
    {
     "data": {
      "text/plain": [
       "((647, 1), (647, 1))"
      ]
     },
     "execution_count": 117,
     "metadata": {},
     "output_type": "execute_result"
    }
   ],
   "source": [
    "y_test_sc.shape,predictions.shape"
   ]
  },
  {
   "cell_type": "markdown",
   "id": "edf11b14-bdd6-43fe-930c-10bae47093bc",
   "metadata": {},
   "source": [
    "# stock visualization"
   ]
  },
  {
   "cell_type": "code",
   "execution_count": 119,
   "id": "9e24c059-f3ef-4f1a-bbaa-367c85a7d4f1",
   "metadata": {},
   "outputs": [
    {
     "data": {
      "text/plain": [
       "[<matplotlib.lines.Line2D at 0x13253b46310>]"
      ]
     },
     "execution_count": 119,
     "metadata": {},
     "output_type": "execute_result"
    },
    {
     "data": {
      "image/png": "[encoded data removed]",
      "text/plain": [
       "<Figure size 640x480 with 1 Axes>"
      ]
     },
     "metadata": {},
     "output_type": "display_data"
    }
   ],
   "source": [
    "plt.plot(y_test_sc)\n",
    "plt.plot(predictions,color='red') # trend highly copied"
   ]
  },
  {
   "cell_type": "code",
   "execution_count": 56,
   "id": "6815c0d9-b19f-4e7c-aa58-b1636aa9b5c3",
   "metadata": {},
   "outputs": [],
   "source": [
    "#evaluation"
   ]
  },
  {
   "cell_type": "code",
   "execution_count": 120,
   "id": "50d3e31f-5c27-4c66-b2f1-66f1531218a1",
   "metadata": {},
   "outputs": [],
   "source": [
    "from sklearn .metrics import mean_squared_error"
   ]
  },
  {
   "cell_type": "code",
   "execution_count": 121,
   "id": "4aeae66b-a981-42c6-b2cb-f60a573d55c9",
   "metadata": {},
   "outputs": [],
   "source": [
    "rmse=np.sqrt(mean_squared_error(y_test_sc,predictions))"
   ]
  },
  {
   "cell_type": "code",
   "execution_count": 122,
   "id": "b1a3c7e3-1932-4aa7-bcf6-1584c4ff092e",
   "metadata": {},
   "outputs": [
    {
     "data": {
      "text/plain": [
       "38.148803216812006"
      ]
     },
     "execution_count": 122,
     "metadata": {},
     "output_type": "execute_result"
    }
   ],
   "source": [
    "rmse # the error is high but what matter is the trend is quite captured,if i train it more, the error will reduce"
   ]
  },
  {
   "cell_type": "markdown",
   "id": "d8c51cd1-07d5-4d27-9396-2adda3885160",
   "metadata": {},
   "source": [
    "# lets predict the next day that is 2024-7-16"
   ]
  },
  {
   "cell_type": "code",
   "execution_count": 123,
   "id": "8885920c-3583-4c97-8091-a64e1126cb7b",
   "metadata": {},
   "outputs": [],
   "source": [
    "# reload the data"
   ]
  },
  {
   "cell_type": "code",
   "execution_count": 124,
   "id": "54169433-45fe-4b44-a44f-e7716c8dc961",
   "metadata": {},
   "outputs": [],
   "source": [
    "df=pd.read_csv(r'C:\\Users\\USER\\Documents\\dataset\\TSLA.csv')"
   ]
  },
  {
   "cell_type": "code",
   "execution_count": 125,
   "id": "25028029-be86-4702-bb5c-30ebbeaeb170",
   "metadata": {},
   "outputs": [
    {
     "data": {
      "text/html": [
       "<div>\n",
       "<style scoped>\n",
       "    .dataframe tbody tr th:only-of-type {\n",
       "        vertical-align: middle;\n",
       "    }\n",
       "\n",
       "    .dataframe tbody tr th {\n",
       "        vertical-align: top;\n",
       "    }\n",
       "\n",
       "    .dataframe thead th {\n",
       "        text-align: right;\n",
       "    }\n",
       "</style>\n",
       "<table border=\"1\" class=\"dataframe\">\n",
       "  <thead>\n",
       "    <tr style=\"text-align: right;\">\n",
       "      <th></th>\n",
       "      <th>Unnamed: 0</th>\n",
       "      <th>Date</th>\n",
       "      <th>Open</th>\n",
       "      <th>High</th>\n",
       "      <th>Low</th>\n",
       "      <th>Close</th>\n",
       "      <th>Volume</th>\n",
       "    </tr>\n",
       "  </thead>\n",
       "  <tbody>\n",
       "    <tr>\n",
       "      <th>3529</th>\n",
       "      <td>3529</td>\n",
       "      <td>2024-07-09</td>\n",
       "      <td>251.000000</td>\n",
       "      <td>265.609985</td>\n",
       "      <td>250.300003</td>\n",
       "      <td>262.329987</td>\n",
       "      <td>160210900</td>\n",
       "    </tr>\n",
       "    <tr>\n",
       "      <th>3530</th>\n",
       "      <td>3530</td>\n",
       "      <td>2024-07-10</td>\n",
       "      <td>262.799988</td>\n",
       "      <td>267.589996</td>\n",
       "      <td>257.859985</td>\n",
       "      <td>263.260010</td>\n",
       "      <td>128519400</td>\n",
       "    </tr>\n",
       "    <tr>\n",
       "      <th>3531</th>\n",
       "      <td>3531</td>\n",
       "      <td>2024-07-11</td>\n",
       "      <td>263.299988</td>\n",
       "      <td>271.000000</td>\n",
       "      <td>239.649994</td>\n",
       "      <td>241.029999</td>\n",
       "      <td>221707300</td>\n",
       "    </tr>\n",
       "    <tr>\n",
       "      <th>3532</th>\n",
       "      <td>3532</td>\n",
       "      <td>2024-07-12</td>\n",
       "      <td>235.800003</td>\n",
       "      <td>251.839996</td>\n",
       "      <td>233.089996</td>\n",
       "      <td>248.229996</td>\n",
       "      <td>155694400</td>\n",
       "    </tr>\n",
       "    <tr>\n",
       "      <th>3533</th>\n",
       "      <td>3533</td>\n",
       "      <td>2024-07-15</td>\n",
       "      <td>255.964996</td>\n",
       "      <td>265.579987</td>\n",
       "      <td>251.729996</td>\n",
       "      <td>252.639999</td>\n",
       "      <td>142831728</td>\n",
       "    </tr>\n",
       "  </tbody>\n",
       "</table>\n",
       "</div>"
      ],
      "text/plain": [
       "      Unnamed: 0        Date        Open        High         Low       Close  \\\n",
       "3529        3529  2024-07-09  251.000000  265.609985  250.300003  262.329987   \n",
       "3530        3530  2024-07-10  262.799988  267.589996  257.859985  263.260010   \n",
       "3531        3531  2024-07-11  263.299988  271.000000  239.649994  241.029999   \n",
       "3532        3532  2024-07-12  235.800003  251.839996  233.089996  248.229996   \n",
       "3533        3533  2024-07-15  255.964996  265.579987  251.729996  252.639999   \n",
       "\n",
       "         Volume  \n",
       "3529  160210900  \n",
       "3530  128519400  \n",
       "3531  221707300  \n",
       "3532  155694400  \n",
       "3533  142831728  "
      ]
     },
     "execution_count": 125,
     "metadata": {},
     "output_type": "execute_result"
    }
   ],
   "source": [
    "df.tail()"
   ]
  },
  {
   "cell_type": "code",
   "execution_count": 87,
   "id": "f629118f-ea10-4a13-a00c-2f55683f1d00",
   "metadata": {},
   "outputs": [],
   "source": [
    "# chose the target varaible"
   ]
  },
  {
   "cell_type": "code",
   "execution_count": 126,
   "id": "42b519a8-7ae3-4e06-bf59-1bb0c1ec71e7",
   "metadata": {},
   "outputs": [],
   "source": [
    "new_df=df['Close']"
   ]
  },
  {
   "cell_type": "code",
   "execution_count": 127,
   "id": "334dde6f-44dd-4e60-a7c2-deb891db3103",
   "metadata": {},
   "outputs": [],
   "source": [
    "# select the last 60 days"
   ]
  },
  {
   "cell_type": "code",
   "execution_count": 128,
   "id": "07fcbfbb-f416-4d4b-9de5-06d57a338c01",
   "metadata": {},
   "outputs": [],
   "source": [
    "last_60_days=new_df[-60:]"
   ]
  },
  {
   "cell_type": "code",
   "execution_count": 129,
   "id": "3e47df0c-d4a1-461d-9436-9a8969c78a23",
   "metadata": {},
   "outputs": [],
   "source": [
    "last=pd.DataFrame(last_60_days)"
   ]
  },
  {
   "cell_type": "code",
   "execution_count": 130,
   "id": "0ea1d879-7196-4f0b-bd0e-d469732e639f",
   "metadata": {},
   "outputs": [
    {
     "data": {
      "text/plain": [
       "(60, 1)"
      ]
     },
     "execution_count": 130,
     "metadata": {},
     "output_type": "execute_result"
    }
   ],
   "source": [
    "last.shape"
   ]
  },
  {
   "cell_type": "code",
   "execution_count": 131,
   "id": "b94fea46-a98a-48d5-a6c2-deb3cfd5d001",
   "metadata": {},
   "outputs": [
    {
     "name": "stderr",
     "output_type": "stream",
     "text": [
      "C:\\Users\\USER\\anaconda3\\envs\\tf_env\\lib\\site-packages\\sklearn\\base.py:458: UserWarning: X has feature names, but MinMaxScaler was fitted without feature names\n",
      "  warnings.warn(\n"
     ]
    }
   ],
   "source": [
    "last_days=scaler.transform(last)"
   ]
  },
  {
   "cell_type": "code",
   "execution_count": 89,
   "id": "fcd12411-c2b1-47d7-8396-b0b63c59f77d",
   "metadata": {},
   "outputs": [],
   "source": [
    "#created sequence and append the 60 days"
   ]
  },
  {
   "cell_type": "code",
   "execution_count": 132,
   "id": "95410041-7bfa-4a96-bdd1-778390888cb6",
   "metadata": {},
   "outputs": [],
   "source": [
    "x_test=[]\n",
    "x_test.append(last_days)\n",
    "\n",
    "x_test=np.array(x_test)"
   ]
  },
  {
   "cell_type": "code",
   "execution_count": 133,
   "id": "43fc3579-19b4-4047-b1f4-0098db8e4acc",
   "metadata": {},
   "outputs": [
    {
     "data": {
      "text/plain": [
       "(1, 60, 1)"
      ]
     },
     "execution_count": 133,
     "metadata": {},
     "output_type": "execute_result"
    }
   ],
   "source": [
    "x_test.shape"
   ]
  },
  {
   "cell_type": "code",
   "execution_count": 134,
   "id": "961e186a-a6c6-415b-a544-7cc7109b7363",
   "metadata": {},
   "outputs": [],
   "source": [
    "#reshape"
   ]
  },
  {
   "cell_type": "code",
   "execution_count": 135,
   "id": "b44f316b-60ce-451c-9890-d676376a13db",
   "metadata": {},
   "outputs": [
    {
     "name": "stdout",
     "output_type": "stream",
     "text": [
      "1/1 [==============================] - 0s 71ms/step\n"
     ]
    }
   ],
   "source": [
    "x_predict=model.predict(x_test)"
   ]
  },
  {
   "cell_type": "code",
   "execution_count": 136,
   "id": "2d1c4233-33dd-46cd-9d11-56ef6713d748",
   "metadata": {},
   "outputs": [],
   "source": [
    "x_predict=scaler.inverse_transform(x_predict)"
   ]
  },
  {
   "cell_type": "code",
   "execution_count": 138,
   "id": "0bd1b6cc-4b3e-4179-93f5-097a0e24a322",
   "metadata": {},
   "outputs": [
    {
     "data": {
      "text/plain": [
       "array([[223.94717]], dtype=float32)"
      ]
     },
     "execution_count": 138,
     "metadata": {},
     "output_type": "execute_result"
    }
   ],
   "source": [
    "x_predict #stock price for 2024-7-16"
   ]
  },
  {
   "cell_type": "code",
   "execution_count": null,
   "id": "877317a0-9443-42d6-a65d-34eb40fadd72",
   "metadata": {},
   "outputs": [],
   "source": []
  },
  {
   "cell_type": "code",
   "execution_count": null,
   "id": "ec5bc1b2-b2cb-451a-878c-c9222e4fef41",
   "metadata": {},
   "outputs": [],
   "source": []
  }
 ],
 "metadata": {
  "kernelspec": {
   "display_name": "Python 3 (ipykernel)",
   "language": "python",
   "name": "python3"
  },
  "language_info": {
   "codemirror_mode": {
    "name": "ipython",
    "version": 3
   },
   "file_extension": ".py",
   "mimetype": "text/x-python",
   "name": "python",
   "nbconvert_exporter": "python",
   "pygments_lexer": "ipython3",
   "version": "3.8.19"
  }
 },
 "nbformat": 4,
 "nbformat_minor": 5
}
